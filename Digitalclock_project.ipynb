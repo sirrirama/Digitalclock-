{
 "cells": [
  {
   "cell_type": "code",
   "execution_count": 1,
   "id": "4cd6263a",
   "metadata": {},
   "outputs": [],
   "source": [
    "from tkinter import Label, Tk \n",
    "import time"
   ]
  },
  {
   "cell_type": "code",
   "execution_count": 2,
   "id": "641f1a87",
   "metadata": {},
   "outputs": [
    {
     "data": {
      "text/plain": [
       "''"
      ]
     },
     "execution_count": 2,
     "metadata": {},
     "output_type": "execute_result"
    }
   ],
   "source": [
    "app_window = Tk() \n",
    "app_window.title(\"Digital Clock\") \n",
    "app_window.geometry(\"420x150\") \n",
    "app_window.resizable(1,1)"
   ]
  },
  {
   "cell_type": "code",
   "execution_count": 3,
   "id": "820a5412",
   "metadata": {},
   "outputs": [],
   "source": [
    "text_font= (\"Boulder\", 68, 'bold')\n",
    "background = \"#f2e750\"\n",
    "foreground= \"#363529\"\n",
    "border_width = 25"
   ]
  },
  {
   "cell_type": "code",
   "execution_count": 4,
   "id": "24ce6021",
   "metadata": {},
   "outputs": [],
   "source": [
    "label = Label(app_window, font=text_font, bg=background, fg=foreground, bd=border_width) \n",
    "label.grid(row=0, column=1)"
   ]
  },
  {
   "cell_type": "code",
   "execution_count": 5,
   "id": "c9f3ac04",
   "metadata": {},
   "outputs": [],
   "source": [
    "def digital_clock(): \n",
    "   time_live = time.strftime(\"%H:%M:%S\")\n",
    "   label.config(text=time_live) \n",
    "   label.after(200, digital_clock)"
   ]
  },
  {
   "cell_type": "code",
   "execution_count": 6,
   "id": "1f2ade43",
   "metadata": {},
   "outputs": [],
   "source": [
    "digital_clock()\n",
    "app_window.mainloop()"
   ]
  },
  {
   "cell_type": "code",
   "execution_count": null,
   "id": "e4f326a0",
   "metadata": {},
   "outputs": [],
   "source": []
  }
 ],
 "metadata": {
  "kernelspec": {
   "display_name": "Python 3 (ipykernel)",
   "language": "python",
   "name": "python3"
  },
  "language_info": {
   "codemirror_mode": {
    "name": "ipython",
    "version": 3
   },
   "file_extension": ".py",
   "mimetype": "text/x-python",
   "name": "python",
   "nbconvert_exporter": "python",
   "pygments_lexer": "ipython3",
   "version": "3.9.13"
  }
 },
 "nbformat": 4,
 "nbformat_minor": 5
}
